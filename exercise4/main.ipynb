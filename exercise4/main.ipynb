{
 "cells": [
  {
   "cell_type": "code",
   "execution_count": 6,
   "metadata": {},
   "outputs": [],
   "source": [
    "%load_ext autoreload\n",
    "%autoreload 2\n",
    "from readers import GetProcessedInputData\n",
    "from feature_normalization import NormalizationMethod\n",
    "from calculate_precision import calculate_results\n",
    "\n",
    "\n",
    "\n",
    "gt_list, train_signatures, test_signatures = \\\n",
    "  GetProcessedInputData(NormalizationMethod.NONE, is_test_mode=False)\n"
   ]
  },
  {
   "cell_type": "code",
   "execution_count": 7,
   "metadata": {},
   "outputs": [],
   "source": [
    "#For testing only.\n",
    "\n",
    "#train_signatures = train_signatures[:10]\n",
    "#test_signatures = test_signatures[:20]"
   ]
  },
  {
   "cell_type": "code",
   "execution_count": 8,
   "metadata": {},
   "outputs": [],
   "source": [
    "from compute_distances import ComputeDistances\n",
    "\n",
    "distances = ComputeDistances(train_signatures, test_signatures)"
   ]
  },
  {
   "cell_type": "code",
   "execution_count": 39,
   "metadata": {},
   "outputs": [
    {
     "name": "stdout",
     "output_type": "stream",
     "text": [
      "[[576  24]\n",
      " [175 575]]\n",
      "0.7669773635153129\n",
      "0.96\n"
     ]
    }
   ],
   "source": [
    "from calculate_precision import calculate_results\n",
    "confusion_matrix, precision, recall = calculate_results(distances, train_signatures, dict(gt_list))"
   ]
  },
  {
   "cell_type": "code",
   "execution_count": 40,
   "metadata": {},
   "outputs": [],
   "source": [
    "import pickle   \n",
    "#Put distances dictionary into a pickle file\n",
    "file = open(\"distances-full-set.pkl\", \"wb\")\n",
    "pickle.dump(distances, file)\n",
    "file.close()"
   ]
  },
  {
   "cell_type": "code",
   "execution_count": null,
   "metadata": {},
   "outputs": [],
   "source": [
    "import pickle   \n",
    "#Retrieve the distance dictionary from a pickle file\n",
    "file_to_read = open(\"signatures.pkl\", \"rb\")\n",
    "distances = pickle.load(file_to_read)\n",
    "file_to_read.close()"
   ]
  },
  {
   "cell_type": "code",
   "execution_count": null,
   "metadata": {},
   "outputs": [],
   "source": [
    "# TODO: write output file sign-ver.csv (slide 14)\n",
    "import csv\n",
    "with open(\"sign-ver.csv\", \"w\", newline=\"\") as f:\n",
    "    writer = csv.writer(f)\n",
    "    writer.writerows(outputData)"
   ]
  }
 ],
 "metadata": {
  "interpreter": {
   "hash": "b9c716b9bd9ba57bf77ddf79692aea481e265cb575044fbc6b7e5441458b6287"
  },
  "kernelspec": {
   "display_name": "Python 3 (ipykernel)",
   "language": "python",
   "name": "python3"
  },
  "language_info": {
   "codemirror_mode": {
    "name": "ipython",
    "version": 3
   },
   "file_extension": ".py",
   "mimetype": "text/x-python",
   "name": "python",
   "nbconvert_exporter": "python",
   "pygments_lexer": "ipython3",
   "version": "3.9.7"
  }
 },
 "nbformat": 4,
 "nbformat_minor": 2
}
