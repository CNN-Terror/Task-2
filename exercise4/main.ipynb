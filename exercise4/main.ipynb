{
 "cells": [
  {
   "cell_type": "code",
   "execution_count": 5,
   "metadata": {},
   "outputs": [],
   "source": [
    "%load_ext autoreload\n",
    "%autoreload 2\n",
    "from readers import GetProcessedInputData\n",
    "from feature_normalization import NormalizationMethod\n",
    "from calculate_precision import calculate_results\n",
    "\n",
    "\n",
    "\n",
    "gt_list, train_signatures, test_signatures = \\\n",
    "  GetProcessedInputData(NormalizationMethod.NONE, is_test_mode=False)\n"
   ]
  },
  {
   "cell_type": "code",
   "execution_count": null,
   "metadata": {},
   "outputs": [],
   "source": [
    "#For testing only.\n",
    "\n",
    "#train_signatures = train_signatures[:10]\n",
    "#test_signatures = test_signatures[:20]"
   ]
  },
  {
   "cell_type": "code",
   "execution_count": 6,
   "metadata": {},
   "outputs": [],
   "source": [
    "import pickle   \n",
    "#Retrieve the distance dictionary from a pickle file\n",
    "file_to_read = open(\"distances-full-set.pkl\", \"rb\")\n",
    "distances = pickle.load(file_to_read)\n",
    "file_to_read.close()"
   ]
  },
  {
   "cell_type": "code",
   "execution_count": 25,
   "metadata": {},
   "outputs": [],
   "source": [
    "from compute_distances import ComputeDistances\n",
    "\n",
    "distances = ComputeDistances(train_signatures, test_signatures)"
   ]
  },
  {
   "cell_type": "code",
   "execution_count": 7,
   "metadata": {},
   "outputs": [],
   "source": [
    "from calculate_precision import calculate_results\n",
    "# calculate confusion_matrix,precision, recall for threshold 0.25\n",
    "confusion_matrix, precision, recall = calculate_results(distances, train_signatures, dict(gt_list), 0.25)"
   ]
  },
  {
   "cell_type": "code",
   "execution_count": 33,
   "metadata": {},
   "outputs": [],
   "source": [
    "# from now on calculates precision,recall for different thresholds\n",
    "# and builds precision-recall curve"
   ]
  },
  {
   "cell_type": "code",
   "execution_count": 8,
   "metadata": {},
   "outputs": [],
   "source": [
    "import sklearn.metrics\n",
    "\n",
    "def precision_recall_curve(distances, train_signatures,gt_list, thresholds):\n",
    "    precisions = []\n",
    "    recalls = []\n",
    "    \n",
    "    for threshold in thresholds:\n",
    "        _, precision,recall = calculate_results(distances, train_signatures, dict(gt_list), threshold)\n",
    "        precisions.append(precision)\n",
    "        recalls.append(recall)\n",
    "\n",
    "    return precisions, recalls"
   ]
  },
  {
   "cell_type": "code",
   "execution_count": 22,
   "metadata": {},
   "outputs": [
    {
     "name": "stdout",
     "output_type": "stream",
     "text": [
      "Average precision is : 0.9657105754107382\n"
     ]
    }
   ],
   "source": [
    "import numpy as np\n",
    "thresholds= [0.15, 0.2, 0.25, 0.3, 0.35, 0.4, 0.45, 0.5, 0.55, 0.6, 0.65]\n",
    "precisions, recalls = precision_recall_curve(distances, \n",
    "                                             train_signatures,\n",
    "                                             gt_list, thresholds)\n",
    "np_recalls = np.asarray([0] + recalls)\n",
    "np_precisions = np.asarray([1] + precisions)\n",
    "AP = np.sum((np_recalls[1:] - np_recalls[:-1]) * np_precisions[:-1])\n",
    "print(f\"Average precision is : {AP}\")"
   ]
  },
  {
   "cell_type": "code",
   "execution_count": 37,
   "metadata": {},
   "outputs": [
    {
     "data": {
      "image/png": "[encoded data removed]",
      "text/plain": [
       "<Figure size 432x288 with 1 Axes>"
      ]
     },
     "metadata": {
      "needs_background": "light"
     },
     "output_type": "display_data"
    }
   ],
   "source": [
    "import matplotlib.pyplot as plt\n",
    "plt.plot(recalls, precisions, linewidth=4, color=\"red\")\n",
    "plt.xlabel(\"Recall\", fontsize=12, fontweight='bold')\n",
    "plt.ylabel(\"Precision\", fontsize=12, fontweight='bold')\n",
    "plt.title(\"Precision-Recall Curve\", fontsize=15, fontweight=\"bold\")\n",
    "plt.show()"
   ]
  },
  {
   "cell_type": "code",
   "execution_count": null,
   "metadata": {},
   "outputs": [],
   "source": [
    "import pickle   \n",
    "#Put distances dictionary into a pickle file\n",
    "file = open(\"distances-full-set.pkl\", \"wb\")\n",
    "pickle.dump(distances, file)\n",
    "file.close()"
   ]
  },
  {
   "cell_type": "code",
   "execution_count": null,
   "metadata": {},
   "outputs": [],
   "source": [
    "import pickle   \n",
    "#Retrieve the distance dictionary from a pickle file\n",
    "file_to_read = open(\"signatures.pkl\", \"rb\")\n",
    "distances = pickle.load(file_to_read)\n",
    "file_to_read.close()"
   ]
  },
  {
   "cell_type": "code",
   "execution_count": null,
   "metadata": {},
   "outputs": [],
   "source": [
    "# TODO: write output file sign-ver.csv (slide 14)\n",
    "import csv\n",
    "with open(\"sign-ver.csv\", \"w\", newline=\"\") as f:\n",
    "    writer = csv.writer(f)\n",
    "    writer.writerows(outputData)"
   ]
  }
 ],
 "metadata": {
  "interpreter": {
   "hash": "b9c716b9bd9ba57bf77ddf79692aea481e265cb575044fbc6b7e5441458b6287"
  },
  "kernelspec": {
   "display_name": "Python 3 (ipykernel)",
   "language": "python",
   "name": "python3"
  },
  "language_info": {
   "codemirror_mode": {
    "name": "ipython",
    "version": 3
   },
   "file_extension": ".py",
   "mimetype": "text/x-python",
   "name": "python",
   "nbconvert_exporter": "python",
   "pygments_lexer": "ipython3",
   "version": "3.9.5"
  }
 },
 "nbformat": 4,
 "nbformat_minor": 2
}
