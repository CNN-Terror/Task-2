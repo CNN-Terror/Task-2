{
 "cells": [
  {
   "cell_type": "code",
   "execution_count": 1,
   "metadata": {
    "scrolled": true
   },
   "outputs": [],
   "source": [
    "%load_ext autoreload\n",
    "%autoreload 2\n",
    "\n",
    "from feature_extraction import Method\n",
    "from readers import GetProcessedInputData\n",
    "from ipynb.fs.full.accuracy_metrics import CalculateAccuracy\n",
    "\n",
    "\n",
    "feature_extraction_methods = [Method.UPPER_CONTOUR]\n",
    "transcriptions_as_list, keywords_to_search, train_words, test_words = GetProcessedInputData(feature_extraction_methods)"
   ]
  },
  {
   "cell_type": "code",
   "execution_count": 2,
   "metadata": {},
   "outputs": [],
   "source": [
    "# TODO: For testing only. Remove the entire cell later\n",
    "\n",
    "# all_train_words = train_words\n",
    "# all_test_words = test_words\n",
    "\n",
    "train_words = train_words[:7]\n",
    "test_words = test_words[:7]"
   ]
  },
  {
   "cell_type": "code",
   "execution_count": 3,
   "metadata": {},
   "outputs": [],
   "source": [
    "import numpy as np\n",
    "from dtaidistance import dtw\n",
    "from compute_distances import ComputeDistances\n",
    "\n",
    "\n",
    "distances = ComputeDistances(train_words, test_words)"
   ]
  },
  {
   "cell_type": "code",
   "execution_count": 4,
   "metadata": {},
   "outputs": [],
   "source": [
    "import pickle   \n",
    "#Put distances dictionary into a pickle file\n",
    "#Put the name of you feature\n",
    "file = open(\"output/UPPER_CONTOUR.pkl\", \"wb\")\n",
    "pickle.dump(distances, file)\n",
    "file.close()"
   ]
  },
  {
   "cell_type": "code",
   "execution_count": 5,
   "metadata": {},
   "outputs": [],
   "source": [
    "import pickle   \n",
    "#Retrieve the distance dictionary from a pickle file\n",
    "#Put the name of you feature\n",
    "file_to_read = open(\"output/UPPER_CONTOUR.pkl\", \"rb\")\n",
    "distances_load = pickle.load(file_to_read)\n",
    "file_to_read.close()"
   ]
  },
  {
   "cell_type": "code",
   "execution_count": 6,
   "metadata": {},
   "outputs": [
    {
     "name": "stdout",
     "output_type": "stream",
     "text": [
      "{'270-01-01': {'300-02-01': 2.448712441213993, '300-02-02': 4.324303393506464, '300-02-03': 4.381723821182499, '300-02-04': 4.921819526314599, '300-02-05': 7.718092374559931, '300-02-06': 4.793410304513034, '300-02-07': 2.507044862912476}, '270-01-02': {'300-02-01': 2.474095776213498, '300-02-02': 1.960956675586445, '300-02-03': 2.2919413485596767, '300-02-04': 3.695998576345429, '300-02-05': 2.820506267735343, '300-02-06': 2.346573798468874, '300-02-07': 2.330678950775133}, '270-01-03': {'300-02-01': 2.3556546371895197, '300-02-02': 1.831993059395856, '300-02-03': 1.28443083078318, '300-02-04': 3.9927354450505734, '300-02-05': 2.6341286326191025, '300-02-06': 2.1885836741033278, '300-02-07': 3.711463905922475}, '270-01-04': {'300-02-01': 3.8570960631986373, '300-02-02': 3.806601021508875, '300-02-03': 3.0139946907447728, '300-02-04': 1.106887528161737, '300-02-05': 4.883593269120123, '300-02-06': 4.429288985635686, '300-02-07': 2.052995911346755}, '270-01-05': {'300-02-01': 3.4459827872769018, '300-02-02': 3.5388336219775383, '300-02-03': 3.3009899144783645, '300-02-04': 7.000901296951448, '300-02-05': 1.6212935386882983, '300-02-06': 3.0789660981048472, '300-02-07': 7.067614092900927}, '270-01-06': {'300-02-01': 2.1264967918357622, '300-02-02': 2.154194616004006, '300-02-03': 2.2359187078328757, '300-02-04': 3.169538072432337, '300-02-05': 3.076675304503043, '300-02-06': 2.657422988412384, '300-02-07': 2.395441458114828}, '270-01-07': {'300-02-01': 1.5640085330711229, '300-02-02': 2.3562841130482046, '300-02-03': 2.8403919752549585, '300-02-04': 2.5103847782902164, '300-02-05': 3.1854892914969484, '300-02-06': 2.0808522655871604, '300-02-07': 1.6307085866601905}}\n"
     ]
    }
   ],
   "source": [
    "print(distances_load)"
   ]
  },
  {
   "cell_type": "code",
   "execution_count": null,
   "metadata": {},
   "outputs": [],
   "source": [
    "from keyword_spotting import FindClosestKnownWord, SpotKeyword\n",
    "\n",
    "\n",
    "# For each test_word, find the train_word that is closest to it.\n",
    "for test_word in test_words:\n",
    "  test_word.closest_train_word, test_word.distance_to_closest_train_word = \\\n",
    "    FindClosestKnownWord(test_word, train_words, distances)\n",
    "    \n",
    "\n",
    "# Search keywords and save spotted keywords in the list.\n",
    "outputData = []\n",
    "for keyword_to_search in keywords_to_search:\n",
    "  spotted_test_keywords = SpotKeyword(keyword_to_search, test_words)\n",
    "  if len(spotted_test_keywords):\n",
    "    print(keyword_to_search)\n",
    "    print(spotted_test_keywords)\n",
    "    spottedKeyword = []\n",
    "    for keyword in spotted_test_keywords:\n",
    "      spottedKeyword.append(keyword.id)\n",
    "      spottedKeyword.append(keyword.distance_to_closest_train_word)\n",
    "      print(keyword.distance_to_closest_train_word)\n",
    "      keyword.image.show()\n",
    "    outputData.append([keyword_to_search, *spottedKeyword])\n",
    "    input()"
   ]
  },
  {
   "cell_type": "code",
   "execution_count": null,
   "metadata": {},
   "outputs": [],
   "source": [
    "# TODO: write output file kws.csv (slide 24)\n",
    "import csv\n",
    "with open(\"kws.csv\", \"w\", newline=\"\") as f:\n",
    "    writer = csv.writer(f)\n",
    "    writer.writerows(outputData)"
   ]
  },
  {
   "cell_type": "code",
   "execution_count": null,
   "metadata": {},
   "outputs": [],
   "source": [
    "# Evaluation Metrics - In progress, not finished yet (There might be errors in the logic)\n",
    "# convert transcriptions to dict - easier and faster access values later\n",
    "from ipynb.fs.full.accuracy_metrics import CalculateAccuracy\n",
    "groundTruth = dict()\n",
    "for sub in transcriptions_as_list:\n",
    "    groundTruth[sub[0]] = sub[1]\n",
    "\n",
    "testWords = dict()\n",
    "for word in test_words:\n",
    "    testWords[word.id] = word.transcription\n",
    "\n",
    "predictions = dict()\n",
    "for item in outputData:\n",
    "    predictions[item[0]] = item[1::2]\n",
    "\n",
    "acc = CalculateAccuracy(keywords_to_search, testWords, predictions, groundTruth)\n",
    "\n",
    "\n",
    "print(acc.CalculateRecall())\n",
    "print(acc.CalculatePrecision())\n"
   ]
  },
  {
   "cell_type": "code",
   "execution_count": null,
   "metadata": {},
   "outputs": [],
   "source": []
  }
 ],
 "metadata": {
  "interpreter": {
   "hash": "916dbcbb3f70747c44a77c7bcd40155683ae19c65e1c03b4aa3499c5328201f1"
  },
  "kernelspec": {
   "display_name": "Python 3 (ipykernel)",
   "language": "python",
   "name": "python3"
  },
  "language_info": {
   "codemirror_mode": {
    "name": "ipython",
    "version": 3
   },
   "file_extension": ".py",
   "mimetype": "text/x-python",
   "name": "python",
   "nbconvert_exporter": "python",
   "pygments_lexer": "ipython3",
   "version": "3.9.7"
  }
 },
 "nbformat": 4,
 "nbformat_minor": 2
}
