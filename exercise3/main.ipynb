{
 "cells": [
  {
   "cell_type": "code",
   "execution_count": null,
   "metadata": {
    "scrolled": true
   },
   "outputs": [],
   "source": [
    "%load_ext autoreload\n",
    "%autoreload 2\n",
    "\n",
    "from feature_extraction import Method\n",
    "from readers import GetProcessedInputData\n",
    "from ipynb.fs.full.accuracy_metrics import CalculateAccuracy\n",
    "\n",
    "\n",
    "feature_extraction_methods = [Method.BLACK_PIXEL_RATIO]\n",
    "transcriptions_as_list, keywords_to_search, train_words, test_words = GetProcessedInputData(feature_extraction_methods)"
   ]
  },
  {
   "cell_type": "code",
   "execution_count": null,
   "metadata": {},
   "outputs": [],
   "source": [
    "# TODO: For testing only. Remove the entire cell later\n",
    "\n",
    "# all_train_words = train_words\n",
    "# all_test_words = test_words\n",
    "\n",
    "train_words = train_words[:7]\n",
    "test_words = test_words[:7]"
   ]
  },
  {
   "cell_type": "code",
   "execution_count": null,
   "metadata": {},
   "outputs": [],
   "source": [
    "import numpy as np\n",
    "from dtaidistance import dtw\n",
    "from compute_distances import ComputeDistances\n",
    "\n",
    "\n",
    "distances = ComputeDistances(train_words, test_words)"
   ]
  },
  {
   "cell_type": "code",
   "execution_count": null,
   "metadata": {},
   "outputs": [],
   "source": [
    "from keyword_spotting import FindClosestKnownWord, SpotKeyword\n",
    "\n",
    "\n",
    "# For each test_word, find the train_word that is closest to it.\n",
    "for test_word in test_words:\n",
    "  test_word.closest_train_word, test_word.distance_to_closest_train_word = \\\n",
    "    FindClosestKnownWord(test_word, train_words, distances)\n",
    "    \n",
    "\n",
    "# Search keywords and save spotted keywords in the list.\n",
    "outputData = []\n",
    "for keyword_to_search in keywords_to_search:\n",
    "  spotted_test_keywords = SpotKeyword(keyword_to_search, test_words)\n",
    "  if len(spotted_test_keywords):\n",
    "    print(keyword_to_search)\n",
    "    print(spotted_test_keywords)\n",
    "    spottedKeyword = []\n",
    "    for keyword in spotted_test_keywords:\n",
    "      spottedKeyword.append(keyword.id)\n",
    "      spottedKeyword.append(keyword.distance_to_closest_train_word)\n",
    "      print(keyword.distance_to_closest_train_word)\n",
    "      keyword.image.show()\n",
    "    outputData.append([keyword_to_search, *spottedKeyword])\n",
    "    input()"
   ]
  },
  {
   "cell_type": "code",
   "execution_count": null,
   "metadata": {},
   "outputs": [],
   "source": [
    "# TODO: write output file kws.csv (slide 24)\n",
    "import csv\n",
    "with open(\"kws.csv\", \"w\", newline=\"\") as f:\n",
    "    writer = csv.writer(f)\n",
    "    writer.writerows(outputData)"
   ]
  },
  {
   "cell_type": "code",
   "execution_count": null,
   "metadata": {},
   "outputs": [],
   "source": [
    "# Evaluation Metrics - In progress, not finished yet (There might be errors in the logic)\n",
    "# convert transcriptions to dict - easier and faster access values later\n",
    "from ipynb.fs.full.accuracy_metrics import CalculateAccuracy\n",
    "groundTruth = dict()\n",
    "for sub in transcriptions_as_list:\n",
    "    groundTruth[sub[0]] = sub[1]\n",
    "\n",
    "testWords = dict()\n",
    "for word in test_words:\n",
    "    testWords[word.id] = word.transcription\n",
    "\n",
    "predictions = dict()\n",
    "for item in outputData:\n",
    "    predictions[item[0]] = item[1::2]\n",
    "\n",
    "acc = CalculateAccuracy(keywords_to_search, testWords, predictions, groundTruth)\n",
    "\n",
    "\n",
    "print(acc.CalculateRecall())\n",
    "print(acc.CalculatePrecision())\n"
   ]
  },
  {
   "cell_type": "code",
   "execution_count": null,
   "metadata": {},
   "outputs": [],
   "source": []
  }
 ],
 "metadata": {
  "interpreter": {
   "hash": "916dbcbb3f70747c44a77c7bcd40155683ae19c65e1c03b4aa3499c5328201f1"
  },
  "kernelspec": {
   "display_name": "Python 3 (ipykernel)",
   "language": "python",
   "name": "python3"
  },
  "language_info": {
   "codemirror_mode": {
    "name": "ipython",
    "version": 3
   },
   "file_extension": ".py",
   "mimetype": "text/x-python",
   "name": "python",
   "nbconvert_exporter": "python",
   "pygments_lexer": "ipython3",
   "version": "3.9.7"
  }
 },
 "nbformat": 4,
 "nbformat_minor": 2
}
