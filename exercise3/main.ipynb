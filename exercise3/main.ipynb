{
 "cells": [
  {
   "cell_type": "code",
   "execution_count": 2,
   "metadata": {},
   "outputs": [],
   "source": [
    "%load_ext autoreload\n",
    "%autoreload 2\n",
    "\n",
    "import os\n",
    "import exercise3_config as config\n",
    "from readers import ExtractImagePaths, ExtractTranscriptionsAsDictionary, ExtractTranscriptionsAsList, ExtractKeywords\n",
    "\n",
    "\n",
    "transcriptions_as_dict = ExtractTranscriptionsAsDictionary()\n",
    "transcriptions_as_list = ExtractTranscriptionsAsList()\n",
    "keywords_to_search = ExtractKeywords()\n",
    "\n",
    "# Extract paths for train and test files\n",
    "train_images_numbers, train_jpg_paths, train_svg_paths = \\\n",
    "  ExtractImagePaths(os.path.join(config.DATA_ROOT_DIR, 'task/train.txt'))\n",
    "test_images_numbers, test_jpg_paths, test_svg_paths = \\\n",
    "  ExtractImagePaths(os.path.join(config.DATA_ROOT_DIR, 'task/valid.txt'))"
   ]
  },
  {
   "cell_type": "code",
   "execution_count": 3,
   "metadata": {},
   "outputs": [],
   "source": [
    "import cv2 as cv\n",
    "import numpy as np\n",
    "from PIL import Image\n",
    "from image_preprocessing import CropAllWordImages\n",
    "\n",
    "\n",
    "# TODO: remove this, apply OTSU. This method is here now just for the sake of testing the whole pipeline.\n",
    "# Applies KMeans clustering with the given k on the image at the given path \n",
    "# and returns the output as a a PIL.Image.\n",
    "def ApplyKMeansClusteringToImageFile(jpg_image_filename, k=2):\n",
    "  original_image = cv.imread(jpg_image_filename)\n",
    "  pixels = original_image.reshape((-1,3))\n",
    "  pixels = np.float32(pixels)\n",
    "\n",
    "  # Define criteria, number of clusters and apply KMeans.\n",
    "  criteria = (cv.TERM_CRITERIA_EPS + cv.TERM_CRITERIA_MAX_ITER, 10, 1.0)\n",
    "  _, label, center = cv.kmeans(pixels, k, None, criteria, 10, cv.KMEANS_RANDOM_CENTERS)\n",
    "\n",
    "  # Convert back into uint8.\n",
    "  center = np.uint8(center)\n",
    "  final_image_pixels = center[label.flatten()]\n",
    "  final_image_pixels = final_image_pixels.reshape((original_image.shape))\n",
    "\n",
    "  return Image.fromarray(final_image_pixels)\n",
    "\n",
    "\n",
    "# Applies binarization on the original image, then crops the words using the given mask.\n",
    "def ExtractWordImagesFromOriginalImage(original_image_path, mask_path):\n",
    "  image_after_binarization = ApplyKMeansClusteringToImageFile(original_image_path)\n",
    "  return CropAllWordImages(image_after_binarization, mask_path)\n",
    "\n",
    "\n",
    "# Extracts all words needed for train and test\n",
    "# Output:\n",
    "#  - train_words_per_image: dict containing all train words\n",
    "#  - testt_words_per_image: dict containing all test words\n",
    "# Entries in the output dictionaries are like dict[page_number] = list_of_words\n",
    "def ExtractTrainAndTestWords(train_images_numbers, train_jpg_paths, train_svg_paths,\n",
    "                             test_images_numbers, test_jpg_paths, test_svg_paths):\n",
    "  train_words_per_image = {}\n",
    "  # for index in range(len(train_images_numbers)):\n",
    "  # TODO: iterate over all images. we can leave it like this for now for testing\n",
    "  for index in range(1):\n",
    "    train_words_per_image[train_images_numbers[index]] = ExtractWordImagesFromOriginalImage(train_jpg_paths[index], train_svg_paths[index])\n",
    "\n",
    "  test_words_per_image = {}\n",
    "  # for index in range(len(test_images_numbers)):\n",
    "  # TODO: iterate over all images. we can leave it like this for now for testing\n",
    "  for index in range(1):\n",
    "    test_words_per_image[test_images_numbers[index]] = ExtractWordImagesFromOriginalImage(test_jpg_paths[index], test_svg_paths[index])\n",
    "\n",
    "  return train_words_per_image, test_words_per_image\n",
    "\n",
    "train_words_per_image, test_words_per_image = \\\n",
    "  ExtractTrainAndTestWords(train_images_numbers, train_jpg_paths, train_svg_paths,\n",
    "                           test_images_numbers, test_jpg_paths, test_svg_paths)\n"
   ]
  },
  {
   "cell_type": "code",
   "execution_count": 28,
   "metadata": {},
   "outputs": [],
   "source": [
    "from word import Word, TestWord\n",
    "from feature_extraction import ExtractFeatures, Method\n",
    "\n",
    "\n",
    "feature_extraction_methods = [Method.BLACK_PIXEL_RATIO]\n",
    "\n",
    "# The following code is not nice but it works because transcriptions and train_words_per_image\n",
    "# are in the same order.\n",
    "train_words = []\n",
    "index = 0\n",
    "for _, train_words_per_current_image in train_words_per_image.items():\n",
    "  for train_word in train_words_per_current_image:\n",
    "    word = Word()\n",
    "    word.image = train_word\n",
    "    word.features = [e for v in ExtractFeatures(train_word, feature_extraction_methods) for e in v]\n",
    "    word.id = transcriptions_as_list[index][0]\n",
    "    word.transcription = transcriptions_as_list[index][1]\n",
    "    index += 1\n",
    "    train_words.append(word)\n",
    "\n",
    "\n",
    "test_words = []\n",
    "for image_number, test_words_per_current_image in test_words_per_image.items():\n",
    "  # TODO: remove once we use all files\n",
    "  while transcriptions_as_list[index][0].split(\"-\")[0] != image_number:\n",
    "    index += 1\n",
    "  for test_word in test_words_per_current_image:\n",
    "    word = TestWord()\n",
    "    word.image = test_word\n",
    "    word.features = [e for v in ExtractFeatures(test_word, feature_extraction_methods) for e in v]\n",
    "    word.id = transcriptions_as_list[index][0]\n",
    "    word.transcription = transcriptions_as_list[index][1]\n",
    "    index += 1\n",
    "    test_words.append(word)"
   ]
  },
  {
   "cell_type": "code",
   "execution_count": 31,
   "metadata": {},
   "outputs": [
    {
     "name": "stdout",
     "output_type": "stream",
     "text": [
      "221\n"
     ]
    }
   ],
   "source": [
    "# all_train_words = train_words\n",
    "# all_test_words = test_words\n",
    "\n",
    "train_words = train_words[:7]\n",
    "test_words = test_words[:7]"
   ]
  },
  {
   "cell_type": "code",
   "execution_count": 32,
   "metadata": {},
   "outputs": [],
   "source": [
    "import numpy as np\n",
    "from dtaidistance import dtw\n",
    "\n",
    "\n",
    "# Compute distances between all train and test words.\n",
    "# Output:\n",
    "#  - distances: matrix stored as dict of size n x m, where n = len(train_words) \n",
    "#    and m = len(test_words)\n",
    "def ComputeDistances(train_words, test_words):\n",
    "  distances = {}\n",
    "  for train_word in train_words:\n",
    "    distances_from_train_word = {}\n",
    "    for test_word in test_words:\n",
    "      distances_from_train_word[test_word.id] = dtw.distance(train_word.features, test_word.features)\n",
    "    distances[train_word.id] = distances_from_train_word\n",
    "  return distances\n",
    "\n",
    "\n",
    "distances = ComputeDistances(train_words, test_words)"
   ]
  },
  {
   "cell_type": "code",
   "execution_count": 37,
   "metadata": {},
   "outputs": [],
   "source": [
    "from keyword_spotting import FindClosestKnownWord\n",
    "\n",
    "\n",
    "# For each test_word, find the train_word that is closest to it.\n",
    "for test_word in test_words:\n",
    "  test_word.closest_train_word, test_word.distance_to_closest_train_word = \\\n",
    "    FindClosestKnownWord(test_word, train_words, distances)"
   ]
  },
  {
   "cell_type": "code",
   "execution_count": 36,
   "metadata": {},
   "outputs": [
    {
     "name": "stdout",
     "output_type": "stream",
     "text": [
      "I-n-s-t-r-u-c-t-i-o-n-s-s_pt\n",
      "[<word.TestWord object at 0x7fc6dec9d880>]\n",
      "O-r-d-e-r-s\n",
      "[<word.TestWord object at 0x7fc6dec9d0a0>, <word.TestWord object at 0x7fc6dec9d820>, <word.TestWord object at 0x7fc6dec9d940>]\n"
     ]
    }
   ],
   "source": [
    "from keyword_spotting import SpotKeyword\n",
    "\n",
    "\n",
    "# Search keywords.\n",
    "for keyword_to_search in keywords_to_search:\n",
    "  spotted_test_keywords = SpotKeyword(keyword_to_search, test_words)\n",
    "  if len(spotted_test_keywords):\n",
    "    print(keyword_to_search)\n",
    "    print(spotted_test_keywords)\n",
    "    for keyword in spotted_test_keywords:\n",
    "      print(keyword.distance_to_closest_train_word)\n",
    "      keyword.image.show()\n",
    "    input()"
   ]
  },
  {
   "cell_type": "code",
   "execution_count": null,
   "metadata": {},
   "outputs": [],
   "source": [
    "# TODO: write output file kws.csv (slide 24)"
   ]
  }
 ],
 "metadata": {
  "interpreter": {
   "hash": "916dbcbb3f70747c44a77c7bcd40155683ae19c65e1c03b4aa3499c5328201f1"
  },
  "kernelspec": {
   "display_name": "Python 3.8.10 64-bit",
   "language": "python",
   "name": "python3"
  },
  "language_info": {
   "codemirror_mode": {
    "name": "ipython",
    "version": 3
   },
   "file_extension": ".py",
   "mimetype": "text/x-python",
   "name": "python",
   "nbconvert_exporter": "python",
   "pygments_lexer": "ipython3",
   "version": "3.8.10"
  },
  "orig_nbformat": 4
 },
 "nbformat": 4,
 "nbformat_minor": 2
}
