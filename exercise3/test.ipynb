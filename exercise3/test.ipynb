{
 "cells": [
  {
   "cell_type": "code",
   "execution_count": 1,
   "metadata": {},
   "outputs": [],
   "source": [
    "# THIS FILE IS FOR TESTING PURPOSES ONLY\n",
    "\n",
    "%load_ext autoreload\n",
    "%autoreload 2\n",
    "\n",
    "import os\n",
    "import cv2 as cv\n",
    "import numpy as np\n",
    "import matplotlib.pyplot as plt\n",
    "from binarization import ApplyKMeansClusteringToImageFile, ApplyOtsu\n",
    "import exercise3_config as config\n",
    "from PIL import Image, ImageDraw\n",
    "from svgpathtools import svg2paths\n",
    "from image_preprocessing import CropImage, CropAllWordImages\n",
    "\n",
    "\n",
    "jpg_image_filename = os.path.join(config.DATA_ROOT_DIR, 'images/270.jpg')\n",
    "svg_image_filename = os.path.join(config.DATA_ROOT_DIR, 'ground-truth/locations/270.svg')"
   ]
  },
  {
   "cell_type": "code",
   "execution_count": 11,
   "metadata": {},
   "outputs": [
    {
     "data": {
      "text/plain": [
       "<bound method Image.show of <PIL.JpegImagePlugin.JpegImageFile image mode=L size=2035x3311 at 0x7F1658DFD850>>"
      ]
     },
     "execution_count": 11,
     "metadata": {},
     "output_type": "execute_result"
    }
   ],
   "source": [
    "original_image = Image.open(jpg_image_filename)\n",
    "original_image.show()"
   ]
  },
  {
   "cell_type": "markdown",
   "metadata": {},
   "source": [
    "# Binarization\n",
    "\n",
    "Run only one of the following cells"
   ]
  },
  {
   "cell_type": "code",
   "execution_count": null,
   "metadata": {},
   "outputs": [],
   "source": [
    "# Apply Otsu\n",
    "full_page_image_after_binarization = ApplyOtsu(jpg_image_filename)\n",
    "\n",
    "full_page_image_after_binarization.show()"
   ]
  },
  {
   "cell_type": "code",
   "execution_count": 3,
   "metadata": {},
   "outputs": [],
   "source": [
    "# Apply clustering\n",
    "full_page_image_after_binarization = ApplyKMeansClusteringToImageFile(jpg_image_filename, k=2)\n",
    "\n",
    "full_page_image_after_binarization.show()"
   ]
  },
  {
   "cell_type": "markdown",
   "metadata": {},
   "source": [
    "# Extract word features"
   ]
  },
  {
   "cell_type": "code",
   "execution_count": null,
   "metadata": {},
   "outputs": [],
   "source": [
    "# Crop all words from the altered image\n",
    "word_images = CropAllWordImages(full_page_image_after_binarization, svg_image_filename)\n",
    "\n",
    "word_image = word_images[0]\n",
    "word_image.show()\n",
    "print(word_image)\n",
    "print(word_image.__dict__)\n",
    "print(word_image.size)\n",
    "\n",
    "\n",
    "# Extract features"
   ]
  },
  {
   "cell_type": "markdown",
   "metadata": {},
   "source": [
    "# Draft"
   ]
  },
  {
   "cell_type": "code",
   "execution_count": 46,
   "metadata": {},
   "outputs": [],
   "source": [
    "# https://dtaidistance.readthedocs.io/en/latest/usage/dtw.html\n",
    "\n",
    "from dtaidistance import dtw\n",
    "from dtaidistance import dtw_visualisation as dtwvis\n",
    "import numpy as np\n",
    "\n",
    "\n",
    "jpg_image_filename_270 = os.path.join(config.DATA_ROOT_DIR, 'images/270.jpg')\n",
    "svg_image_filename_270 = os.path.join(config.DATA_ROOT_DIR, 'ground-truth/locations/270.svg')\n",
    "jpg_image_filename_272 = os.path.join(config.DATA_ROOT_DIR, 'images/272.jpg')\n",
    "svg_image_filename_272 = os.path.join(config.DATA_ROOT_DIR, 'ground-truth/locations/272.svg')\n",
    "\n",
    "# Apply binarization\n",
    "full_page_image_after_binarization_270 = ApplyKMeansClusteringToImageFile(jpg_image_filename_270, k=2)\n",
    "full_page_image_after_binarization_272 = ApplyKMeansClusteringToImageFile(jpg_image_filename_272, k=2)\n",
    "\n",
    "# Extract words\n",
    "word_images_270 = CropAllWordImages(full_page_image_after_binarization_270, svg_image_filename_270)\n",
    "word_images_272 = CropAllWordImages(full_page_image_after_binarization_272, svg_image_filename_272)\n",
    "\n",
    "word_270 = word_images_270[0]\n",
    "word_and_270 = word_images_270[3]\n",
    "word_272 = word_images_272[0]\n",
    "word_and_272 = word_images_272[3]"
   ]
  },
  {
   "cell_type": "code",
   "execution_count": 51,
   "metadata": {},
   "outputs": [],
   "source": [
    "from feature_extraction import ExtractFeatures\n",
    "\n",
    "features_word_270 = ExtractFeatures(word_270)\n",
    "features_word_272 = ExtractFeatures(word_272)\n",
    "features_word_and_270 = ExtractFeatures(word_and_270)\n",
    "features_word_and_272 = ExtractFeatures(word_and_272)"
   ]
  },
  {
   "cell_type": "code",
   "execution_count": 52,
   "metadata": {},
   "outputs": [
    {
     "name": "stdout",
     "output_type": "stream",
     "text": [
      "0.5901843165035042\n",
      "0.9392868488062616\n",
      "1.0796463743898639\n",
      "0.20056807566693624\n",
      "0.0\n"
     ]
    }
   ],
   "source": [
    "# path = dtw.warping_path(a_vals, b_vals)\n",
    "# dtwvis.plot_warping(a_vals, b_vals, path)\n",
    "\n",
    "distance_270_272 = dtw.distance(features_word_270, features_word_272)\n",
    "print(distance_270_272)\n",
    "\n",
    "distance_270_and_270 = dtw.distance(features_word_270, features_word_and_270)\n",
    "print(distance_270_and_270)\n",
    "\n",
    "distance_270_and_272 = dtw.distance(features_word_270, features_word_and_272)\n",
    "print(distance_270_and_272)\n",
    "\n",
    "\n",
    "distance_and_270_and_272 = dtw.distance(features_word_and_270, features_word_and_272)\n",
    "print(distance_and_270_and_272)\n",
    "\n",
    "distance_270_270 = dtw.distance(features_word_270, features_word_270)\n",
    "print(distance_270_270)\n",
    "\n",
    "# word_270.show()\n",
    "# word_272.show()\n",
    "# word_and_270.show()\n",
    "# word_and_272.show()\n"
   ]
  },
  {
   "cell_type": "code",
   "execution_count": null,
   "metadata": {},
   "outputs": [],
   "source": [
    "# Draft\n",
    "\n",
    "# img = cv.imread(jpg_image_filename)\n",
    "# # print(img)\n",
    "# Z = img.reshape((-1,3))\n",
    "# # print(Z)\n",
    "\n",
    "# # convert to np.float32\n",
    "# Z = np.float32(Z)\n",
    "# # define criteria, number of clusters(K) and apply kmeans()\n",
    "# criteria = (cv.TERM_CRITERIA_EPS + cv.TERM_CRITERIA_MAX_ITER, 10, 1.0)\n",
    "# K = 2\n",
    "# ret,label,center=cv.kmeans(Z,K,None,criteria,10,cv.KMEANS_RANDOM_CENTERS)\n",
    "# # Now convert back into uint8, and make original image\n",
    "# center = np.uint8(center)\n",
    "# res = center[label.flatten()]\n",
    "# res2 = res.reshape((img.shape))\n",
    "# plt.imshow(res2)\n",
    "# plt.show()\n",
    "\n",
    "# image = cv2.imread(jpg_image_filename) # Loading image\n",
    "# image = cv2.cvtColor(image, cv2.COLOR_BGR2RGB) # Change color to RGB (from BGR) \n",
    "# # Reshaping the image into a 2D array of pixels and 3 color values (RGB) \n",
    "# pixel_vals = image.reshape((-1,3)) \n",
    "# # Convert to float type only for supporting cv2.kmean\n",
    "# pixel_vals = np.float32(pixel_vals)"
   ]
  }
 ],
 "metadata": {
  "interpreter": {
   "hash": "916dbcbb3f70747c44a77c7bcd40155683ae19c65e1c03b4aa3499c5328201f1"
  },
  "kernelspec": {
   "display_name": "Python 3.8.10 64-bit",
   "language": "python",
   "name": "python3"
  },
  "language_info": {
   "codemirror_mode": {
    "name": "ipython",
    "version": 3
   },
   "file_extension": ".py",
   "mimetype": "text/x-python",
   "name": "python",
   "nbconvert_exporter": "python",
   "pygments_lexer": "ipython3",
   "version": "3.8.10"
  },
  "orig_nbformat": 4
 },
 "nbformat": 4,
 "nbformat_minor": 2
}
