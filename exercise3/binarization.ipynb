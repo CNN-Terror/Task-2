{
 "cells": [
  {
   "cell_type": "code",
   "execution_count": 96,
   "id": "77153359",
   "metadata": {},
   "outputs": [],
   "source": [
    "# pip3 install opencv-python numpy matplotlib\n",
    "import cv2 as cv\n",
    "import numpy as np\n",
    "from PIL import Image\n",
    "from matplotlib import pyplot as plt\n",
    "import os\n"
   ]
  },
  {
   "cell_type": "code",
   "execution_count": 97,
   "id": "ea283596",
   "metadata": {},
   "outputs": [],
   "source": [
    "# Source: https://medium.com/analytics-vidhya/binarization-of-image-using-numpy-65df2b82e189\n",
    "def read_this(image_file, gray_scale=False):\n",
    "    image_src = cv.imread(image_file)\n",
    "    if gray_scale:\n",
    "        image_src = cv.cvtColor(image_src, cv.COLOR_BGR2GRAY)\n",
    "    else:\n",
    "        image_src = cv.cvtColor(image_src, cv.COLOR_BGR2RGB)\n",
    "    return image_src"
   ]
  },
  {
   "cell_type": "code",
   "execution_count": 98,
   "id": "108c0e57",
   "metadata": {},
   "outputs": [
    {
     "name": "stdout",
     "output_type": "stream",
     "text": [
      "8\n"
     ]
    }
   ],
   "source": [
    "print(cv.THRESH_BINARY+ cv.THRESH_OTSU)"
   ]
  },
  {
   "cell_type": "code",
   "execution_count": 101,
   "id": "c1eba006",
   "metadata": {},
   "outputs": [],
   "source": [
    "def binarize(image_file, thresh_val=127, gray_scale=True):\n",
    "    image_src = read_this(image_file=image_file, gray_scale=gray_scale)\n",
    "    \n",
    "    blur = cv.GaussianBlur(image_src,(5,5),0)\n",
    "    th, image_b = cv.threshold(image_src, 0, 255, cv.THRESH_BINARY+ cv.THRESH_OTSU)\n",
    "    return image_b"
   ]
  },
  {
   "cell_type": "code",
   "execution_count": 102,
   "id": "4dd9951d",
   "metadata": {},
   "outputs": [
    {
     "name": "stdout",
     "output_type": "stream",
     "text": [
      "image saved: C:\\Users\\datog\\Downloads\\Exercise3\\Task-2\\exercise3/binarized_images/270_binarized.jpg\n",
      "image saved: C:\\Users\\datog\\Downloads\\Exercise3\\Task-2\\exercise3/binarized_images/271_binarized.jpg\n",
      "image saved: C:\\Users\\datog\\Downloads\\Exercise3\\Task-2\\exercise3/binarized_images/272_binarized.jpg\n",
      "image saved: C:\\Users\\datog\\Downloads\\Exercise3\\Task-2\\exercise3/binarized_images/273_binarized.jpg\n",
      "image saved: C:\\Users\\datog\\Downloads\\Exercise3\\Task-2\\exercise3/binarized_images/274_binarized.jpg\n",
      "image saved: C:\\Users\\datog\\Downloads\\Exercise3\\Task-2\\exercise3/binarized_images/275_binarized.jpg\n",
      "image saved: C:\\Users\\datog\\Downloads\\Exercise3\\Task-2\\exercise3/binarized_images/276_binarized.jpg\n",
      "image saved: C:\\Users\\datog\\Downloads\\Exercise3\\Task-2\\exercise3/binarized_images/277_binarized.jpg\n",
      "image saved: C:\\Users\\datog\\Downloads\\Exercise3\\Task-2\\exercise3/binarized_images/278_binarized.jpg\n",
      "image saved: C:\\Users\\datog\\Downloads\\Exercise3\\Task-2\\exercise3/binarized_images/279_binarized.jpg\n",
      "image saved: C:\\Users\\datog\\Downloads\\Exercise3\\Task-2\\exercise3/binarized_images/300_binarized.jpg\n",
      "image saved: C:\\Users\\datog\\Downloads\\Exercise3\\Task-2\\exercise3/binarized_images/301_binarized.jpg\n",
      "image saved: C:\\Users\\datog\\Downloads\\Exercise3\\Task-2\\exercise3/binarized_images/302_binarized.jpg\n",
      "image saved: C:\\Users\\datog\\Downloads\\Exercise3\\Task-2\\exercise3/binarized_images/303_binarized.jpg\n",
      "image saved: C:\\Users\\datog\\Downloads\\Exercise3\\Task-2\\exercise3/binarized_images/304_binarized.jpg\n"
     ]
    }
   ],
   "source": [
    "def save_image(image, old_name, dir):\n",
    "    index = old_name.find('.jpg')\n",
    "    final_string = old_name[:index] + '_binarized' + old_name[index:]\n",
    "    newpath = dir + \"/binarized_images\" \n",
    "    if not os.path.exists(newpath):\n",
    "        os.makedirs(newpath)\n",
    "    path_to_save = newpath +\"/\" + final_string\n",
    "    cv.imwrite(path_to_save,image)\n",
    "    print(\"image saved: \" + path_to_save)\n",
    "\n",
    "def main():\n",
    "    dir = os.getcwd()\n",
    "    try:\n",
    "        #assuming this file is one directory upper than images\n",
    "        directory = os.fsencode(dir + '/images' )\n",
    "        for file in os.listdir(directory):\n",
    "            filename = os.fsdecode(file)\n",
    "            if filename.endswith(\".jpg\"):\n",
    "                image_dir = dir + '/images/' + filename\n",
    "                binarized_image = binarize(image_file=image_dir)\n",
    "                save_image(binarized_image, filename, dir)\n",
    "            else:\n",
    "                continue\n",
    "                \n",
    "    except Exception as e:\n",
    "        print(e)\n",
    "\n",
    "if __name__ == \"__main__\":\n",
    "    main()  "
   ]
  },
  {
   "cell_type": "code",
   "execution_count": 9,
   "id": "8ba194b0",
   "metadata": {},
   "outputs": [],
   "source": [
    "# Applies KMeans clustering with the given k on the image at the given path \n",
    "# and returns the output as a a PIL.Image.\n",
    "def ApplyKMeansClusteringToImageFile(jpg_image_filename, k=2):\n",
    "  original_image = cv.imread(jpg_image_filename)\n",
    "  pixels = original_image.reshape((-1,3))\n",
    "  pixels = np.float32(pixels)\n",
    "\n",
    "  # Define criteria, number of clusters and apply KMeans.\n",
    "  criteria = (cv.TERM_CRITERIA_EPS + cv.TERM_CRITERIA_MAX_ITER, 10, 1.0)\n",
    "  _, label, center = cv.kmeans(pixels, k, None, criteria, 10, cv.KMEANS_RANDOM_CENTERS)\n",
    "\n",
    "  # Convert back into uint8.\n",
    "  center = np.uint8(center)\n",
    "  final_image_pixels = center[label.flatten()]\n",
    "  final_image_pixels = final_image_pixels.reshape((original_image.shape))\n",
    "\n",
    "  return Image.fromarray(final_image_pixels)\n",
    "\n",
    "\n"
   ]
  },
  {
   "cell_type": "code",
   "execution_count": 10,
   "id": "6b51e7ac",
   "metadata": {},
   "outputs": [],
   "source": [
    "# IN PROGRESS, NOT WORKING/FINISHED. Probably not worth finishing anyway.\n",
    "# - original_image: PIL.Image\n",
    "# https://www.thepythoncode.com/article/kmeans-for-image-segmentation-opencv-python\n",
    "# https://medium.com/towardssingularity/k-means-clustering-for-image-segmentation-using-opencv-in-python-17178ce3d6f3\n",
    "def ApplyKMeansClusteringToImagePixels(original_image, k=2):\n",
    "  pixels = []\n",
    "  for row in range(original_image.height):\n",
    "    pixel_row = []\n",
    "    for column in range(original_image.width):\n",
    "      pixel_row.append(original_image.getpixel((column, row)))\n",
    "    pixels.append(pixel_row)\n",
    "  pixels = np.float32(pixels)\n",
    "  pixel_vals = pixels.reshape((-1,3)) \n",
    "\n",
    "  x_size, y_size = original_image.size\n",
    "  shape = (x_size, y_size, 1)\n",
    "\n",
    "  # processed_image = Image.new('L', original_image.size, 0)\n",
    "  # return processed_image\n",
    "\n",
    "  criteria = (cv.TERM_CRITERIA_EPS + cv.TERM_CRITERIA_MAX_ITER, 100, 0.85) #criteria\n",
    "  _, labels, centers = cv.kmeans(pixels, k, None, criteria, 10, cv.KMEANS_RANDOM_CENTERS) \n",
    "\n",
    "  centers = np.uint8(centers) # convert data into 8-bit values \n",
    "  segmented_data = centers[labels.flatten()] # Mapping labels to center points( RGB Value)\n",
    "  segmented_image = segmented_data\n",
    "  # segmented_image = segmented_data.reshape((shape)) # reshape data into the original image dimensions\n",
    "  plt.imshow(segmented_image)\n",
    "  plt.show()\n",
    "  input()"
   ]
  },
  {
   "cell_type": "code",
   "execution_count": null,
   "id": "e1aa0db4",
   "metadata": {},
   "outputs": [],
   "source": []
  }
 ],
 "metadata": {
  "kernelspec": {
   "display_name": "Python 3",
   "language": "python",
   "name": "python3"
  },
  "language_info": {
   "codemirror_mode": {
    "name": "ipython",
    "version": 3
   },
   "file_extension": ".py",
   "mimetype": "text/x-python",
   "name": "python",
   "nbconvert_exporter": "python",
   "pygments_lexer": "ipython3",
   "version": "3.8.8"
  }
 },
 "nbformat": 4,
 "nbformat_minor": 5
}
