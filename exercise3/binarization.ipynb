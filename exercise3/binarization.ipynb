{
 "cells": [
  {
   "cell_type": "code",
   "execution_count": 1,
   "id": "ed5c1d36",
   "metadata": {},
   "outputs": [
    {
     "name": "stderr",
     "output_type": "stream",
     "text": [
      "C:\\ProgramData\\Anaconda3\\lib\\site-packages\\numpy\\_distributor_init.py:30: UserWarning: loaded more than 1 DLL from .libs:\n",
      "C:\\ProgramData\\Anaconda3\\lib\\site-packages\\numpy\\.libs\\libopenblas.EL2C6PLE4ZYW3ECEVIV3OXXGRN2NRFM2.gfortran-win_amd64.dll\n",
      "C:\\ProgramData\\Anaconda3\\lib\\site-packages\\numpy\\.libs\\libopenblas.PYQHXLVVQ7VESDPUVUADXEVJOBGHJPAY.gfortran-win_amd64.dll\n",
      "  warnings.warn(\"loaded more than 1 DLL from .libs:\"\n"
     ]
    }
   ],
   "source": [
    "# pip3 install opencv-python numpy matplotlib\n",
    "import cv2 as cv\n",
    "import numpy as np\n",
    "from PIL import Image\n",
    "from matplotlib import pyplot as plt\n",
    "import os\n"
   ]
  },
  {
   "cell_type": "code",
   "execution_count": 7,
   "id": "5408a4fc",
   "metadata": {},
   "outputs": [],
   "source": [
    "# Source: https://medium.com/analytics-vidhya/binarization-of-image-using-numpy-65df2b82e189\n",
    "def read_this(image_file, gray_scale=False):\n",
    "    image_src = cv.imread(image_file)\n",
    "    if gray_scale:\n",
    "        image_src = cv.cvtColor(image_src, cv.COLOR_BGR2GRAY)\n",
    "    else:\n",
    "        image_src = cv.cvtColor(image_src, cv.COLOR_BGR2RGB)\n",
    "    return image_src"
   ]
  },
  {
   "cell_type": "code",
   "execution_count": 8,
   "id": "5b646b64",
   "metadata": {},
   "outputs": [],
   "source": [
    "def ApplyOtsu(image_file, thresh_val=127, gray_scale=True):\n",
    "    image_src = read_this(image_file=image_file, gray_scale=gray_scale)\n",
    "    blur = cv.GaussianBlur(image_src,(5,5),0)\n",
    "    th, image_b = cv.threshold(image_src, 0, 255, cv.THRESH_BINARY+ cv.THRESH_OTSU)\n",
    "    return Image.fromarray(image_b)"
   ]
  },
  {
   "cell_type": "code",
   "execution_count": 9,
   "id": "98547aff",
   "metadata": {},
   "outputs": [],
   "source": [
    "def save_image(image, old_name, dir):\n",
    "    if('_binarized' not in old_name):\n",
    "        index = dir.find('.jpg')\n",
    "        final_string = dir[:index] + '_binarized' + dir[index:]\n",
    "        image.save(final_string)\n",
    "    \n",
    "\n",
    "def main():\n",
    "    dir = os.getcwd()\n",
    "    try:\n",
    "        #assuming this file is one directory upper than images\n",
    "        directory = os.fsencode(dir + '/PatRec17_KWS_Data/images/')\n",
    "        for file in os.listdir(directory):\n",
    "            filename = os.fsdecode(file)\n",
    "            if filename.endswith(\".jpg\"):\n",
    "                image_dir = dir + '/PatRec17_KWS_Data/images/' + filename\n",
    "                binarized_image = ApplyOtsu(image_file=image_dir)\n",
    "                save_image(binarized_image, filename, image_dir)\n",
    "            else:\n",
    "                continue\n",
    "                \n",
    "    except Exception as e:\n",
    "        print(e)\n",
    "\n",
    "if __name__ == \"__main__\":\n",
    "    main()  "
   ]
  },
  {
   "cell_type": "code",
   "execution_count": null,
   "id": "c694439d",
   "metadata": {},
   "outputs": [],
   "source": [
    "# Applies KMeans clustering with the given k on the image at the given path \n",
    "# and returns the output as a a PIL.Image.\n",
    "def ApplyKMeansClusteringToImageFile(jpg_image_filename, k=2):\n",
    "  original_image = cv.imread(jpg_image_filename)\n",
    "  pixels = original_image.reshape((-1,3))\n",
    "  pixels = np.float32(pixels)\n",
    "\n",
    "  # Define criteria, number of clusters and apply KMeans.\n",
    "  criteria = (cv.TERM_CRITERIA_EPS + cv.TERM_CRITERIA_MAX_ITER, 10, 1.0)\n",
    "  _, label, center = cv.kmeans(pixels, k, None, criteria, 10, cv.KMEANS_RANDOM_CENTERS)\n",
    "\n",
    "  # Convert back into uint8.\n",
    "  center = np.uint8(center)\n",
    "  final_image_pixels = center[label.flatten()]\n",
    "  final_image_pixels = final_image_pixels.reshape((original_image.shape))\n",
    "\n",
    "  return Image.fromarray(final_image_pixels)\n",
    "\n",
    "\n"
   ]
  },
  {
   "cell_type": "code",
   "execution_count": null,
   "id": "7838a93c",
   "metadata": {},
   "outputs": [],
   "source": [
    "# IN PROGRESS, NOT WORKING/FINISHED. Probably not worth finishing anyway.\n",
    "# - original_image: PIL.Image\n",
    "# https://www.thepythoncode.com/article/kmeans-for-image-segmentation-opencv-python\n",
    "# https://medium.com/towardssingularity/k-means-clustering-for-image-segmentation-using-opencv-in-python-17178ce3d6f3\n",
    "def ApplyKMeansClusteringToImagePixels(original_image, k=2):\n",
    "  pixels = []\n",
    "  for row in range(original_image.height):\n",
    "    pixel_row = []\n",
    "    for column in range(original_image.width):\n",
    "      pixel_row.append(original_image.getpixel((column, row)))\n",
    "    pixels.append(pixel_row)\n",
    "  pixels = np.float32(pixels)\n",
    "  pixel_vals = pixels.reshape((-1,3)) \n",
    "\n",
    "  x_size, y_size = original_image.size\n",
    "  shape = (x_size, y_size, 1)\n",
    "\n",
    "  # processed_image = Image.new('L', original_image.size, 0)\n",
    "  # return processed_image\n",
    "\n",
    "  criteria = (cv.TERM_CRITERIA_EPS + cv.TERM_CRITERIA_MAX_ITER, 100, 0.85) #criteria\n",
    "  _, labels, centers = cv.kmeans(pixels, k, None, criteria, 10, cv.KMEANS_RANDOM_CENTERS) \n",
    "\n",
    "  centers = np.uint8(centers) # convert data into 8-bit values \n",
    "  segmented_data = centers[labels.flatten()] # Mapping labels to center points( RGB Value)\n",
    "  segmented_image = segmented_data\n",
    "  # segmented_image = segmented_data.reshape((shape)) # reshape data into the original image dimensions\n",
    "  plt.imshow(segmented_image)\n",
    "  plt.show()\n",
    "  input()"
   ]
  },
  {
   "cell_type": "code",
   "execution_count": null,
   "id": "ed77eeed",
   "metadata": {},
   "outputs": [],
   "source": []
  }
 ],
 "metadata": {
  "kernelspec": {
   "display_name": "Python 3",
   "language": "python",
   "name": "python3"
  },
  "language_info": {
   "codemirror_mode": {
    "name": "ipython",
    "version": 3
   },
   "file_extension": ".py",
   "mimetype": "text/x-python",
   "name": "python",
   "nbconvert_exporter": "python",
   "pygments_lexer": "ipython3",
   "version": "3.8.8"
  }
 },
 "nbformat": 4,
 "nbformat_minor": 5
}
