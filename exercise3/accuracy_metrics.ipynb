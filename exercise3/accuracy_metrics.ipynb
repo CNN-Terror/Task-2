{
 "cells": [
  {
   "cell_type": "code",
   "execution_count": 1,
   "id": "76b9221f",
   "metadata": {},
   "outputs": [],
   "source": [
    "#Note - current code might contain many mistakes\n",
    "class CalculateAccuracy:\n",
    "    def __init__(self,keywords_to_search, test_words, predictions, ground_truth):\n",
    "        self.test_words = test_words\n",
    "        self.predictions = predictions\n",
    "        self.ground_truth = ground_truth\n",
    "        self.keywords_to_search = keywords_to_search\n",
    "        self.ComputeLabels()\n",
    "        \n",
    "    def CalculateRecall(self):\n",
    "        try:\n",
    "            recall = (1.0 * self.true_positive / (self.true_positive + self.false_negative))\n",
    "            return recall\n",
    "        except ZeroDivisionError:\n",
    "            return 0\n",
    "        \n",
    "    def CalculatePrecision(self):\n",
    "        try:\n",
    "            precision = (1.0 * self.true_positive / (self.true_positive + self.false_positive))\n",
    "            return precision\n",
    "        except ZeroDivisionError:\n",
    "            return 0\n",
    "    \n",
    "    def ComputeLabels(self):\n",
    "        self.true_positive = 0\n",
    "        self.true_negative = 0\n",
    "        self.false_positive = 0\n",
    "        self.false_negative = 0\n",
    "\n",
    "        for key, value in self.predictions.items():\n",
    "            for i in value:\n",
    "                if(key == self.ground_truth.get(i)):\n",
    "                    self.true_positive += 1\n",
    "                else:\n",
    "                    self.false_positive += 1\n",
    "                \n",
    "\n",
    "        for key, value in self.test_words.items():\n",
    "            if (value in self.keywords_to_search and \\\n",
    "                (not self.predictions.get(value) \\\n",
    "                or key not in self.predictions.get(value))):\n",
    "                self.false_negative +=1\n",
    "            else: \n",
    "                self.true_negative +=1"
   ]
  },
  {
   "cell_type": "code",
   "execution_count": null,
   "id": "2f16b9a9",
   "metadata": {},
   "outputs": [],
   "source": []
  }
 ],
 "metadata": {
  "kernelspec": {
   "display_name": "Python 3 (ipykernel)",
   "language": "python",
   "name": "python3"
  },
  "language_info": {
   "codemirror_mode": {
    "name": "ipython",
    "version": 3
   },
   "file_extension": ".py",
   "mimetype": "text/x-python",
   "name": "python",
   "nbconvert_exporter": "python",
   "pygments_lexer": "ipython3",
   "version": "3.9.7"
  }
 },
 "nbformat": 4,
 "nbformat_minor": 5
}
