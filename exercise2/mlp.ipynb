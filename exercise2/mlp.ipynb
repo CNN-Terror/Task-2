{
 "cells": [
  {
   "cell_type": "code",
   "execution_count": 17,
   "metadata": {},
   "outputs": [],
   "source": [
    "import exercise2_config as config\n",
    "import readers\n",
    "\n",
    "\n",
    "train_images = readers.ReadFromCsvFile(config.TRAIN_DATA_FILE)\n",
    "test_images = readers.ReadFromCsvFile(config.TEST_DATA_FILE)"
   ]
  },
  {
   "cell_type": "code",
   "execution_count": 18,
   "metadata": {},
   "outputs": [],
   "source": [
    "train_data = [image.pixels for image in train_images] \n",
    "train_labels = [image.label for image in train_images]\n",
    "test_data = [image.pixels for image in test_images]\n",
    "test_labels = [image.label for image in test_images]"
   ]
  },
  {
   "cell_type": "code",
   "execution_count": 1,
   "metadata": {},
   "outputs": [],
   "source": [
    "class Result:\n",
    "  def __init__(self, hidden_layer_size, learning_rate, max_iter, accuracy):\n",
    "    self.hidden_layer_size = hidden_layer_size\n",
    "    self.learning_rate = learning_rate\n",
    "    self.max_iter = max_iter\n",
    "    self.accuracy = accuracy\n",
    "\n",
    "results = []"
   ]
  },
  {
   "cell_type": "code",
   "execution_count": 20,
   "metadata": {},
   "outputs": [
    {
     "name": "stderr",
     "output_type": "stream",
     "text": [
      "/home/adriana/.local/lib/python3.8/site-packages/sklearn/neural_network/_multilayer_perceptron.py:692: ConvergenceWarning: Stochastic Optimizer: Maximum iterations (1) reached and the optimization hasn't converged yet.\n",
      "  warnings.warn(\n"
     ]
    },
    {
     "name": "stdout",
     "output_type": "stream",
     "text": [
      "0.2086\n"
     ]
    }
   ],
   "source": [
    "from sklearn.neural_network import MLPClassifier\n",
    "\n",
    "\n",
    "results = [Result(1, 2, 3, 4)]\n",
    "\n",
    "\n",
    "# Using pixels as values\n",
    "classifier_pav = MLPClassifier(random_state=1, \n",
    "                               max_iter=1, \n",
    "                               hidden_layer_sizes=(10,)).fit(train_data, train_labels)\n",
    "accuracy = classifier_pav.score(test_data, test_labels)\n",
    "print(accuracy)"
   ]
  },
  {
   "cell_type": "markdown",
   "metadata": {},
   "source": [
    "# Report"
   ]
  },
  {
   "cell_type": "code",
   "execution_count": 35,
   "metadata": {},
   "outputs": [],
   "source": [
    "from pylatex import Document, Command, LongTable\n",
    "from pylatex.utils import NoEscape\n",
    "\n",
    "doc = Document(page_numbers=False)\n",
    "\n",
    "# Add title\n",
    "doc.preamble.append(Command('title', 'Exercise 2b - MLP'))\n",
    "doc.preamble.append(Command('date', ''))\n",
    "doc.append(NoEscape(r'\\maketitle'))\n",
    "\n",
    "\n",
    "# Add table with results\n",
    "with doc.create(LongTable('l l l l')) as data_table:\n",
    "  data_table.add_hline()\n",
    "  data_table.add_row(['Hidden Layer Size', 'Learning Rate', 'Max Iterations', 'Accuracy'])\n",
    "  data_table.add_hline()\n",
    "  data_table.end_table_header()\n",
    "  data_table.add_hline()\n",
    "\n",
    "  for result in results:\n",
    "    row = [result.hidden_layer_size,\n",
    "           result.learning_rate,\n",
    "           result.max_iter,\n",
    "           result.accuracy] \n",
    "    data_table.add_row(row)\n",
    "    data_table.add_hline()\n",
    "\n",
    "  data_table.end_table_last_footer()\n",
    "  \n",
    "\n",
    "doc.generate_pdf('E2b')\n",
    "doc.generate_tex('E2b')\n"
   ]
  }
 ],
 "metadata": {
  "interpreter": {
   "hash": "916dbcbb3f70747c44a77c7bcd40155683ae19c65e1c03b4aa3499c5328201f1"
  },
  "kernelspec": {
   "display_name": "Python 3.8.10 64-bit",
   "language": "python",
   "name": "python3"
  },
  "language_info": {
   "codemirror_mode": {
    "name": "ipython",
    "version": 3
   },
   "file_extension": ".py",
   "mimetype": "text/x-python",
   "name": "python",
   "nbconvert_exporter": "python",
   "pygments_lexer": "ipython3",
   "version": "3.8.10"
  },
  "orig_nbformat": 4
 },
 "nbformat": 4,
 "nbformat_minor": 2
}
