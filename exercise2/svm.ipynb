{
 "cells": [
  {
   "cell_type": "code",
   "execution_count": 7,
   "id": "003a06d7",
   "metadata": {},
   "outputs": [],
   "source": [
    "import exercise2_config as config\n",
    "import readers\n",
    "\n",
    "train_images = readers.ReadFromCsvFile(config.TRAIN_DATA_FILE)\n",
    "test_images = readers.ReadFromCsvFile(config.TEST_DATA_FILE)"
   ]
  },
  {
   "cell_type": "code",
   "execution_count": 8,
   "id": "499a7f59",
   "metadata": {},
   "outputs": [],
   "source": [
    "train_data = [image.pixels for image in train_images]\n",
    "train_labels = [image.label for image in train_images]\n",
    "test_data = [image.pixels for image in test_images]\n",
    "test_labels = [image.label for image in test_images]"
   ]
  },
  {
   "cell_type": "code",
   "execution_count": 9,
   "id": "596fc4af",
   "metadata": {},
   "outputs": [],
   "source": [
    "from sklearn import svm\n",
    "from sklearn.metrics import accuracy_score\n",
    "from sklearn.model_selection import cross_val_score"
   ]
  },
  {
   "cell_type": "raw",
   "id": "aa417152",
   "metadata": {},
   "source": [
    "We tried to run the program on the entire dataset, but it wouldn't finish after more than 8 hours. Therefore, we decided to test it on a subset of 5000 entries."
   ]
  },
  {
   "cell_type": "code",
   "execution_count": 10,
   "id": "df180497",
   "metadata": {},
   "outputs": [],
   "source": [
    "# To be removed when analyzing the entire set\n",
    "\n",
    "train_data = train_data[:5000]\n",
    "train_labels = train_labels[:5000]\n",
    "test_data = test_data[:5000]\n",
    "test_labels = test_labels[:5000]"
   ]
  },
  {
   "cell_type": "raw",
   "id": "8674bdb9",
   "metadata": {},
   "source": [
    "We first use a linear kernel and optimize the C parameter by using a 5-fold cross-validation. We deided on a one versus one classifier. The best value for the C parameter as well as the average accuracy are displayed below."
   ]
  },
  {
   "cell_type": "code",
   "execution_count": 13,
   "id": "6bf16116",
   "metadata": {},
   "outputs": [
    {
     "name": "stdout",
     "output_type": "stream",
     "text": [
      "The best value for the C parameter is 1e-05 with an accuracy of 0.9077999999999999 for the 5-fold CV.\n"
     ]
    }
   ],
   "source": [
    "kernel_param = 'linear'\n",
    "\n",
    "validation_means = []\n",
    "for k in range(-5, 5):\n",
    "    C_param = 10**k\n",
    "    classifier = svm.SVC(kernel=kernel_param, C=C_param, decision_function_shape='ovo')\n",
    "    # linear kernel (default would be rbf)\n",
    "    # one vs one approach\n",
    "\n",
    "    scores = cross_val_score(classifier, train_data, train_labels, cv=5, n_jobs=3)  # Cross validation of the train set\n",
    "    tuple_mean = (C_param, scores.mean())\n",
    "    validation_means.append(tuple_mean)\n",
    "validation_means.sort(key=lambda a: a[1])\n",
    "best_C = validation_means[-1][0]\n",
    "best_mean = validation_means[-1][1]\n",
    "print(f\"The best value for the C parameter is {best_C} with an accuracy of {best_mean} for the 5-fold CV.\")"
   ]
  },
  {
   "cell_type": "raw",
   "id": "e3e6314b",
   "metadata": {},
   "source": [
    "Now that we have the optimized value for the C parameter, we build our SVM and classify the test set. The accuracy of our classifier is displayed below."
   ]
  },
  {
   "cell_type": "code",
   "execution_count": 14,
   "id": "2c075fb4",
   "metadata": {},
   "outputs": [
    {
     "name": "stdout",
     "output_type": "stream",
     "text": [
      "Accuracy of our classifier : 0.8818\n"
     ]
    }
   ],
   "source": [
    "classifier = svm.SVC(kernel=kernel_param, C=best_C, decision_function_shape='ovo')\n",
    "classifier.fit(train_data, train_labels)\n",
    "predicted_class = classifier.predict(test_data)  # Predict the class\n",
    "print(f\"Accuracy of our classifier : {accuracy_score(test_labels, predicted_class)}\")"
   ]
  },
  {
   "cell_type": "raw",
   "id": "88ad986c",
   "metadata": {},
   "source": [
    "Now we can try the same thing but with another kernel. We used here the rbf."
   ]
  },
  {
   "cell_type": "code",
   "execution_count": 11,
   "id": "0ce584e6",
   "metadata": {},
   "outputs": [
    {
     "name": "stdout",
     "output_type": "stream",
     "text": [
      "The best pair of parameters is C = 10 and gamma = 1e-07 with an accuracy of 0.9494 for the 5-fold CV.\n"
     ]
    }
   ],
   "source": [
    "kernel_param = 'rbf'\n",
    "\n",
    "validation_means = []\n",
    "for k in range(-5, 5):\n",
    "    for l in range(-7, 3):\n",
    "        C_param = 10**k\n",
    "        gamma_param = 10**l\n",
    "        classifier = svm.SVC(kernel=kernel_param, gamma=gamma_param, C=C_param, decision_function_shape='ovo')\n",
    "        # rbf kernel\n",
    "        # one vs one approach\n",
    "\n",
    "        scores = cross_val_score(classifier, train_data, train_labels, cv=5, n_jobs=3)  # Cross validation of the train set\n",
    "        tuple_mean = (C_param, gamma_param, scores.mean())\n",
    "        validation_means.append(tuple_mean)\n",
    "validation_means.sort(key=lambda a: a[2])\n",
    "best_C = validation_means[-1][0]\n",
    "best_gamma = validation_means[-1][1]\n",
    "best_mean = validation_means[-1][2]\n",
    "print(f\"The best pair of parameters is C = {best_C} and gamma = {best_gamma} with an accuracy of {best_mean} for the 5-fold CV.\")"
   ]
  },
  {
   "cell_type": "code",
   "execution_count": 12,
   "id": "daa90178",
   "metadata": {},
   "outputs": [
    {
     "name": "stdout",
     "output_type": "stream",
     "text": [
      "Accuracy of our classifier : 0.9316\n"
     ]
    }
   ],
   "source": [
    "classifier = svm.SVC(kernel=kernel_param, gamma=best_gamma, C=best_C, decision_function_shape='ovo')\n",
    "classifier.fit(train_data, train_labels)\n",
    "predicted_class = classifier.predict(test_data)  # Predict the class\n",
    "print(f\"Accuracy of our classifier : {accuracy_score(test_labels, predicted_class)}\")"
   ]
  },
  {
   "cell_type": "raw",
   "id": "55e2598f",
   "metadata": {},
   "source": [
    "We can see a difference between the two kernels over these data. The rbf is 5% better than the linear."
   ]
  }
 ],
 "metadata": {
  "kernelspec": {
   "display_name": "Python 3 (ipykernel)",
   "language": "python",
   "name": "python3"
  },
  "language_info": {
   "codemirror_mode": {
    "name": "ipython",
    "version": 3
   },
   "file_extension": ".py",
   "mimetype": "text/x-python",
   "name": "python",
   "nbconvert_exporter": "python",
   "pygments_lexer": "ipython3",
   "version": "3.9.5"
  }
 },
 "nbformat": 4,
 "nbformat_minor": 5
}
