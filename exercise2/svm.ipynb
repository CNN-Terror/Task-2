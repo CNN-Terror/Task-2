{
 "cells": [
  {
   "cell_type": "code",
   "execution_count": 6,
   "id": "003a06d7",
   "metadata": {},
   "outputs": [],
   "source": [
    "import exercise2_config as config\n",
    "import readers\n",
    "\n",
    "train_images = readers.ReadFromCsvFile(config.TRAIN_DATA_FILE)\n",
    "test_images = readers.ReadFromCsvFile(config.TEST_DATA_FILE)"
   ]
  },
  {
   "cell_type": "code",
   "execution_count": 7,
   "id": "499a7f59",
   "metadata": {},
   "outputs": [],
   "source": [
    "train_data = [image.pixels for image in train_images]\n",
    "train_labels = [image.label for image in train_images]\n",
    "test_data = [image.pixels for image in test_images]\n",
    "test_labels = [image.label for image in test_images]"
   ]
  },
  {
   "cell_type": "code",
   "execution_count": 8,
   "id": "596fc4af",
   "metadata": {},
   "outputs": [],
   "source": [
    "from sklearn import svm\n",
    "from sklearn.metrics import accuracy_score\n",
    "from sklearn.model_selection import cross_val_score"
   ]
  },
  {
   "cell_type": "code",
   "execution_count": 9,
   "id": "df180497",
   "metadata": {},
   "outputs": [],
   "source": [
    "# To be removed when analyzing the entire set\n",
    "train_data = train_data[:500]\n",
    "train_labels = train_labels[:500]\n",
    "test_data = test_data[:500]\n",
    "test_labels = test_labels[:500]"
   ]
  },
  {
   "cell_type": "code",
   "execution_count": 10,
   "id": "6bf16116",
   "metadata": {},
   "outputs": [
    {
     "name": "stdout",
     "output_type": "stream",
     "text": [
      "The best value for the C parameter is 10000 with an accuracy of 0.876 for the 5-fold CV.\n"
     ]
    }
   ],
   "source": [
    "kernel_param = 'linear'\n",
    "\n",
    "validation_means = []\n",
    "for k in range(-5, 5):\n",
    "    C_param = 10**k\n",
    "    classifier = svm.SVC(kernel=kernel_param, C=C_param, decision_function_shape='ovo')\n",
    "    # linear kernel (default would be rbf)\n",
    "    # one vs one approach\n",
    "\n",
    "    scores = cross_val_score(classifier, train_data, train_labels, cv=5)  # Cross validation of the train set\n",
    "    tuple_mean = (C_param, scores.mean())\n",
    "    validation_means.append(tuple_mean)\n",
    "validation_means.sort(key=lambda a: a[1])\n",
    "best_C = validation_means[-1][0]\n",
    "best_mean = validation_means[-1][1]\n",
    "print(f\"The best value for the C parameter is {best_C} with an accuracy of {best_mean} for the 5-fold CV.\")"
   ]
  },
  {
   "cell_type": "code",
   "execution_count": 11,
   "id": "2c075fb4",
   "metadata": {},
   "outputs": [
    {
     "name": "stdout",
     "output_type": "stream",
     "text": [
      "Accuracy of our classifier : 0.86\n"
     ]
    }
   ],
   "source": [
    "classifier = svm.SVC(kernel=kernel_param, C=best_C, decision_function_shape='ovo')\n",
    "classifier.fit(train_data, train_labels)\n",
    "predicted_class = classifier.predict(test_data)  # Predict the class\n",
    "print(f\"Accuracy of our classifier : {accuracy_score(test_labels, predicted_class)}\")"
   ]
  },
  {
   "cell_type": "code",
   "execution_count": null,
   "id": "0ce584e6",
   "metadata": {},
   "outputs": [],
   "source": []
  }
 ],
 "metadata": {
  "kernelspec": {
   "display_name": "Python 3 (ipykernel)",
   "language": "python",
   "name": "python3"
  },
  "language_info": {
   "codemirror_mode": {
    "name": "ipython",
    "version": 3
   },
   "file_extension": ".py",
   "mimetype": "text/x-python",
   "name": "python",
   "nbconvert_exporter": "python",
   "pygments_lexer": "ipython3",
   "version": "3.9.5"
  }
 },
 "nbformat": 4,
 "nbformat_minor": 5
}
